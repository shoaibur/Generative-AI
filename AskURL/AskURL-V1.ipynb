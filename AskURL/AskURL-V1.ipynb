{
 "cells": [
  {
   "cell_type": "code",
   "execution_count": 1,
   "id": "8fc0b9e7",
   "metadata": {},
   "outputs": [],
   "source": [
    "import os\n",
    "import requests\n",
    "import textwrap\n",
    "import openai\n",
    "openai.api_key = os.environ.get(\"OPENAI_API_KEY\")"
   ]
  },
  {
   "cell_type": "code",
   "execution_count": 2,
   "id": "e46d7597",
   "metadata": {},
   "outputs": [],
   "source": [
    "class URLChat:\n",
    "    def __init__(self, url):\n",
    "        self.url_content = self.fetch_content_from_url(url)\n",
    "        # Initialize chat history with the system message\n",
    "        self.chat_history = [\n",
    "            {\n",
    "                \"role\": \"system\",\n",
    "                \"content\": f\"You are a helpful assistant that can answer questions based on the \\\n",
    "                content of a webpage: {self.url_content[:500]}\"\n",
    "            }\n",
    "        ]\n",
    "\n",
    "    def fetch_content_from_url(self, url):\n",
    "        response = requests.get(url)\n",
    "        response.raise_for_status()  # Raise an exception for HTTP errors\n",
    "        return response.text\n",
    "\n",
    "    def get_response_from_query(self, query):\n",
    "        # Add the user's query to the chat history\n",
    "        self.chat_history.append({\"role\": \"user\", \"content\": query})\n",
    "        \n",
    "        response = openai.ChatCompletion.create(\n",
    "            model=\"gpt-3.5-turbo\",\n",
    "            messages=self.chat_history\n",
    "        )\n",
    "        \n",
    "        # Extract the model's response and add it to the chat history\n",
    "        model_response = response.choices[0].message['content'].strip()\n",
    "        self.chat_history.append({\"role\": \"assistant\", \"content\": model_response})\n",
    "        \n",
    "        return model_response\n",
    "    \n",
    "    def interactive_chat(self):\n",
    "        print(\"Type 'exit' to end the conversation.\")\n",
    "        while True:\n",
    "            query = input(\"You: \")\n",
    "            if query.lower() == 'exit':\n",
    "                break\n",
    "            response = self.get_response_from_query(query)\n",
    "            print(\"Bot: \", textwrap.fill(response, width=85))\n",
    "            print(\"\")"
   ]
  },
  {
   "cell_type": "code",
   "execution_count": 3,
   "id": "449e805f",
   "metadata": {},
   "outputs": [
    {
     "name": "stdout",
     "output_type": "stream",
     "text": [
      "Type 'exit' to end the conversation.\n",
      "You: What is this page about?\n",
      "Bot:  This page is likely a list of countries and dependent territories.\n",
      "\n",
      "You: How many countries are there in the world?\n",
      "Bot:  The number of countries in the world can vary depending on how they are defined and\n",
      "recognized. According to the United Nations, there are currently 195 recognized\n",
      "sovereign states. However, this number can change over time due to political changes\n",
      "and the recognition of new countries. It's important to note that there may be\n",
      "differing opinions on the status of certain territories or regions.\n",
      "\n",
      "You: exit\n"
     ]
    }
   ],
   "source": [
    "url = \"https://en.wikipedia.org/wiki/List_of_countries_and_dependencies_by_area\"\n",
    "url_chat = URLChat(url)\n",
    "url_chat.interactive_chat()"
   ]
  },
  {
   "cell_type": "code",
   "execution_count": null,
   "id": "58b2b476",
   "metadata": {},
   "outputs": [],
   "source": []
  }
 ],
 "metadata": {
  "kernelspec": {
   "display_name": "Python 3 (ipykernel)",
   "language": "python",
   "name": "python3"
  },
  "language_info": {
   "codemirror_mode": {
    "name": "ipython",
    "version": 3
   },
   "file_extension": ".py",
   "mimetype": "text/x-python",
   "name": "python",
   "nbconvert_exporter": "python",
   "pygments_lexer": "ipython3",
   "version": "3.9.13"
  }
 },
 "nbformat": 4,
 "nbformat_minor": 5
}
